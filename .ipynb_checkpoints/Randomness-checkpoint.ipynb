{
 "cells": [
  {
   "cell_type": "code",
   "execution_count": 7,
   "metadata": {},
   "outputs": [],
   "source": [
    "import numpy as np"
   ]
  },
  {
   "cell_type": "code",
   "execution_count": 1,
   "metadata": {},
   "outputs": [
    {
     "name": "stdout",
     "output_type": "stream",
     "text": [
      "Make a list of 0s and 1s:010100110001100101010010110011101001110110101\n",
      "('You entered ', '010100110001100101010010110011101001110110101')\n",
      "Your list is 45 digits long.\n"
     ]
    }
   ],
   "source": [
    "user_sequence = raw_input(\"Make a list of 0s and 1s:\") #Note: for Python3, \"input\" instead of \"raw_input\"\n",
    "print (\"You entered \", user_sequence)\n",
    "print (\"Your list is %i digits long.\" % len(user_sequence))"
   ]
  },
  {
   "cell_type": "code",
   "execution_count": 4,
   "metadata": {},
   "outputs": [],
   "source": [
    " def evaluate_randomness(sequence):\n",
    "    #\n",
    "    # Sequence must be list of 0s and 1s\n",
    "    #\n",
    "    number_of_00s = 0\n",
    "    number_of_01s = 0\n",
    "    number_of_10s = 0\n",
    "    number_of_11s = 0\n",
    "\n",
    "    for i in range(0, len(sequence)-1):\n",
    "        if int(sequence[i])==0:\n",
    "            if int(sequence[i+1])==0:\n",
    "                number_of_00s += 1\n",
    "            else:\n",
    "                number_of_01s += 1\n",
    "        else:\n",
    "            if int(sequence[i+1])==0:\n",
    "                number_of_10s += 1\n",
    "            else:\n",
    "                number_of_11s += 1\n",
    "                \n",
    "    total_number_of_pairs = number_of_00s + number_of_01s + number_of_10s + number_of_11s\n",
    "    \n",
    "    probability_of_00s = 1.0*number_of_00s / total_number_of_pairs\n",
    "    probability_of_01s = 1.0*number_of_01s / total_number_of_pairs\n",
    "    probability_of_10s = 1.0*number_of_10s / total_number_of_pairs\n",
    "    probability_of_11s = 1.0*number_of_11s / total_number_of_pairs\n",
    "    print (\"Probability of 00: %.3f \\n\" % probability_of_00s)\n",
    "    print (\"Probability of 01: %.3f \\n\" % probability_of_01s)\n",
    "    print (\"Probability of 10: %.3f \\n\" % probability_of_10s)\n",
    "    print (\"Probability of 11: %.3f \\n\" % probability_of_11s)\n",
    "    \n",
    "    return [probability_of_00s, probability_of_01s, probability_of_10s, probability_of_11s]"
   ]
  },
  {
   "cell_type": "code",
   "execution_count": 13,
   "metadata": {},
   "outputs": [
    {
     "name": "stdout",
     "output_type": "stream",
     "text": [
      "Probability of 00: 0.159 \n",
      "\n",
      "Probability of 01: 0.341 \n",
      "\n",
      "Probability of 10: 0.318 \n",
      "\n",
      "Probability of 11: 0.182 \n",
      "\n"
     ]
    }
   ],
   "source": [
    "evaluate_randomness(user_sequence);"
   ]
  },
  {
   "cell_type": "code",
   "execution_count": 10,
   "metadata": {},
   "outputs": [
    {
     "name": "stdout",
     "output_type": "stream",
     "text": [
      "[0 0 1 0 0 1 0 1 1 1 0 0 0 0 0 0 1 0 0 0 0 1 0 1 0 0 0 0 1 1 0 1 0 0 0 0 0\n",
      " 1 0 0 1 1 1 0 0 1 0 0 0 0 1 1 1 0 1 1 1 1 1 1 1 0 1 1 1 1 1 0 0 0 1 1 0 1\n",
      " 1 1 0 0 1 1 0 1 1 0 0 1 1 1 0 1 1 1 1 0 0 0 1 0 1 1]\n"
     ]
    }
   ],
   "source": [
    "computer_sequence = np.random.randint(2, size=100)\n",
    "print (computer_sequence)"
   ]
  },
  {
   "cell_type": "code",
   "execution_count": 12,
   "metadata": {},
   "outputs": [
    {
     "name": "stdout",
     "output_type": "stream",
     "text": [
      "Probability of 00: 0.283 \n",
      "\n",
      "Probability of 01: 0.222 \n",
      "\n",
      "Probability of 10: 0.212 \n",
      "\n",
      "Probability of 11: 0.283 \n",
      "\n"
     ]
    }
   ],
   "source": [
    "evaluate_randomness(computer_sequence);"
   ]
  },
  {
   "cell_type": "code",
   "execution_count": null,
   "metadata": {},
   "outputs": [],
   "source": []
  }
 ],
 "metadata": {
  "kernelspec": {
   "display_name": "Python 2",
   "language": "python",
   "name": "python2"
  },
  "language_info": {
   "codemirror_mode": {
    "name": "ipython",
    "version": 2
   },
   "file_extension": ".py",
   "mimetype": "text/x-python",
   "name": "python",
   "nbconvert_exporter": "python",
   "pygments_lexer": "ipython2",
   "version": "2.7.15"
  }
 },
 "nbformat": 4,
 "nbformat_minor": 2
}
